{
 "cells": [
  {
   "cell_type": "code",
   "execution_count": null,
   "metadata": {},
   "outputs": [],
   "source": [
    "def encode(df):\n",
    "    for col in df.columns:\n",
    "        print(col)\n",
    "        l1 = []\n",
    "        l2 = []\n",
    "        i = 0\n",
    "        j = 0\n",
    "        q = 1\n",
    "        x = len(df[col].unique())\n",
    "        if(x<=4):\n",
    "            continue\n",
    "        else:\n",
    "            for i in range(0,len(df)):\n",
    "                x = df.loc[i,col]\n",
    "                if(j < 4):\n",
    "                    if(x in l1):\n",
    "                        df.loc[i,col] = l2[l1.index(x)]\n",
    "                    else:    \n",
    "                        l1.append(x)\n",
    "                        l2.append(q)\n",
    "                        df.loc[i,col] = q\n",
    "                        q = q + 1\n",
    "                        j = j + 1\n",
    "                else:\n",
    "                    if(x == l1[0]):\n",
    "                        df.loc[i,col] = l2[0]\n",
    "                    elif(x == l1[1]):\n",
    "                        df.loc[i,col] = l2[1]\n",
    "                    elif(x == l1[2]):\n",
    "                        df.loc[i,col] = l2[2]    \n",
    "                    else:\n",
    "                        df.loc[i,col] = 4\n",
    "    \n",
    "    return df"
   ]
  }
 ],
 "metadata": {
  "kernelspec": {
   "display_name": "Python 3",
   "language": "python",
   "name": "python3"
  },
  "language_info": {
   "codemirror_mode": {
    "name": "ipython",
    "version": 3
   },
   "file_extension": ".py",
   "mimetype": "text/x-python",
   "name": "python",
   "nbconvert_exporter": "python",
   "pygments_lexer": "ipython3",
   "version": "3.7.3"
  }
 },
 "nbformat": 4,
 "nbformat_minor": 2
}
