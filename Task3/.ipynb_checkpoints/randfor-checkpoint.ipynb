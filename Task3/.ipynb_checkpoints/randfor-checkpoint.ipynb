{
 "cells": [
  {
   "cell_type": "code",
   "execution_count": 1,
   "metadata": {},
   "outputs": [],
   "source": [
    "import pandas as pd\n",
    "from sklearn.ensemble import RandomForestClassifier\n",
    "from sklearn.model_selection import train_test_split\n",
    "import numpy as np\n",
    "from sklearn.metrics import accuracy_score\n",
    "from sklearn import preprocessing\n",
    "from sklearn.model_selection import GridSearchCV\n",
    "from sklearn.feature_selection import SelectKBest\n",
    "from sklearn.feature_selection import chi2"
   ]
  },
  {
   "cell_type": "code",
   "execution_count": 2,
   "metadata": {},
   "outputs": [],
   "source": [
    "clf = RandomForestClassifier() #RandomForestClassifier(n_jobs=-1,max_features= 'sqrt' ,n_estimators=50, oob_score = True) \n",
    "\n",
    "#param_grid = {'n_estimators': [200, 700], 'max_features': ['auto', 'sqrt', 'log2']}\n",
    "\n",
    "#clf = GridSearchCV(estimator=clf, param_grid=param_grid, cv=5, n_jobs=4)\n"
   ]
  },
  {
   "cell_type": "code",
   "execution_count": 3,
   "metadata": {},
   "outputs": [],
   "source": [
    "df = pd.read_excel(\"transformed6.xlsx\")"
   ]
  },
  {
   "cell_type": "code",
   "execution_count": 4,
   "metadata": {},
   "outputs": [],
   "source": [
    "df = df.fillna(df.mean())\n",
    "df.drop(['Unnamed: 0'],axis=1,inplace=True)"
   ]
  },
  {
   "cell_type": "code",
   "execution_count": 5,
   "metadata": {},
   "outputs": [],
   "source": [
    "df1 = df.fillna(method='ffill')\n",
    "#df1 = df1.drop(['Vehicle 1 Trim', 'Engine Size', 'Engine Block', 'Auto In The Market: New', 'Auto In The Market: Used', 'Model 1', 'Engine Cylinders', 'Drive Type', 'Fuel Type', 'Make 1'], axis=1)"
   ]
  },
  {
   "cell_type": "code",
   "execution_count": 6,
   "metadata": {},
   "outputs": [],
   "source": [
    "ysplit = df1['Vehicle Type']\n",
    "xsplit = df1.drop(['Vehicle Type'],axis=1)\n",
    "dt = xsplit.select_dtypes(include=['datetime64'])\n",
    "cat2 = list(dt.columns)\n",
    "categorical = xsplit.select_dtypes(exclude=['float64'])\n",
    "cat3 = list(categorical.columns)\n",
    "cols = cat2 + cat3\n",
    "le = preprocessing.LabelEncoder()\n",
    "#xsplit[cols] = xsplit[cols].apply(lambda col: le.fit_transform(col))\n",
    "xsplit = pd.get_dummies(xsplit, columns=cols)\n"
   ]
  },
  {
   "cell_type": "code",
   "execution_count": 33,
   "metadata": {},
   "outputs": [],
   "source": [
    "bestfeatures = SelectKBest(score_func=chi2, k=10)\n",
    "fit = bestfeatures.fit(xsplit,ysplit)\n",
    "dfscores = pd.DataFrame(fit.scores_)\n",
    "dfcolumns = pd.DataFrame(xsplit.columns)\n",
    "fes = pd.concat([dfcolumns,dfscores],axis=1)\n",
    "fes.columns = ['Specs','Score']\n",
    "fes.nlargest(15,'Score')\n",
    "fes = fes.sort_values(by =['Score'],ascending=False)\n",
    "large = fes.head(300)\n",
    "\n",
    "corr = large['Specs'].values\n",
    "xsplit1 = xsplit[corr]     "
   ]
  },
  {
   "cell_type": "code",
   "execution_count": 39,
   "metadata": {},
   "outputs": [
    {
     "data": {
      "text/html": [
       "<div>\n",
       "<style scoped>\n",
       "    .dataframe tbody tr th:only-of-type {\n",
       "        vertical-align: middle;\n",
       "    }\n",
       "\n",
       "    .dataframe tbody tr th {\n",
       "        vertical-align: top;\n",
       "    }\n",
       "\n",
       "    .dataframe thead th {\n",
       "        text-align: right;\n",
       "    }\n",
       "</style>\n",
       "<table border=\"1\" class=\"dataframe\">\n",
       "  <thead>\n",
       "    <tr style=\"text-align: right;\">\n",
       "      <th></th>\n",
       "      <th>Specs</th>\n",
       "      <th>Score</th>\n",
       "    </tr>\n",
       "  </thead>\n",
       "  <tbody>\n",
       "    <tr>\n",
       "      <th>2</th>\n",
       "      <td>Model 1</td>\n",
       "      <td>108797.065288</td>\n",
       "    </tr>\n",
       "    <tr>\n",
       "      <th>0</th>\n",
       "      <td>Vehicle 1 Trim</td>\n",
       "      <td>63638.947075</td>\n",
       "    </tr>\n",
       "    <tr>\n",
       "      <th>7</th>\n",
       "      <td>Make 1</td>\n",
       "      <td>4000.390631</td>\n",
       "    </tr>\n",
       "    <tr>\n",
       "      <th>1</th>\n",
       "      <td>Engine Size</td>\n",
       "      <td>2048.515368</td>\n",
       "    </tr>\n",
       "    <tr>\n",
       "      <th>4</th>\n",
       "      <td>Drive Type</td>\n",
       "      <td>1905.963087</td>\n",
       "    </tr>\n",
       "    <tr>\n",
       "      <th>3</th>\n",
       "      <td>Engine Cylinders</td>\n",
       "      <td>961.353808</td>\n",
       "    </tr>\n",
       "    <tr>\n",
       "      <th>15</th>\n",
       "      <td>Estimated Current Loan-to-Value Ratio</td>\n",
       "      <td>914.647908</td>\n",
       "    </tr>\n",
       "    <tr>\n",
       "      <th>23</th>\n",
       "      <td>Homeowner Probability Model</td>\n",
       "      <td>803.326830</td>\n",
       "    </tr>\n",
       "    <tr>\n",
       "      <th>14</th>\n",
       "      <td>Engine Block</td>\n",
       "      <td>667.488393</td>\n",
       "    </tr>\n",
       "    <tr>\n",
       "      <th>12</th>\n",
       "      <td>Person Occupation</td>\n",
       "      <td>142.455837</td>\n",
       "    </tr>\n",
       "    <tr>\n",
       "      <th>9</th>\n",
       "      <td>Auto In The Market: Used</td>\n",
       "      <td>109.479532</td>\n",
       "    </tr>\n",
       "    <tr>\n",
       "      <th>5</th>\n",
       "      <td>Fuel Type</td>\n",
       "      <td>95.030348</td>\n",
       "    </tr>\n",
       "    <tr>\n",
       "      <th>11</th>\n",
       "      <td>Auto In The Market: New</td>\n",
       "      <td>72.469166</td>\n",
       "    </tr>\n",
       "    <tr>\n",
       "      <th>18</th>\n",
       "      <td>Est. Household Income V5</td>\n",
       "      <td>40.770676</td>\n",
       "    </tr>\n",
       "    <tr>\n",
       "      <th>22</th>\n",
       "      <td>Consumer View Profitability Score</td>\n",
       "      <td>32.798720</td>\n",
       "    </tr>\n",
       "    <tr>\n",
       "      <th>10</th>\n",
       "      <td>Number of Persons in LU</td>\n",
       "      <td>24.081669</td>\n",
       "    </tr>\n",
       "    <tr>\n",
       "      <th>6</th>\n",
       "      <td>Dwelling Type</td>\n",
       "      <td>16.795223</td>\n",
       "    </tr>\n",
       "    <tr>\n",
       "      <th>17</th>\n",
       "      <td>Mosaic Global Household</td>\n",
       "      <td>11.934348</td>\n",
       "    </tr>\n",
       "    <tr>\n",
       "      <th>8</th>\n",
       "      <td>Person Marital Status</td>\n",
       "      <td>11.158791</td>\n",
       "    </tr>\n",
       "    <tr>\n",
       "      <th>21</th>\n",
       "      <td>Household Composition</td>\n",
       "      <td>6.403988</td>\n",
       "    </tr>\n",
       "    <tr>\n",
       "      <th>13</th>\n",
       "      <td>Children: Age 0-18 Version 3</td>\n",
       "      <td>4.446631</td>\n",
       "    </tr>\n",
       "    <tr>\n",
       "      <th>20</th>\n",
       "      <td>BehaviorBank: Presence of Credit Card</td>\n",
       "      <td>2.471085</td>\n",
       "    </tr>\n",
       "    <tr>\n",
       "      <th>19</th>\n",
       "      <td>Person Education</td>\n",
       "      <td>1.152960</td>\n",
       "    </tr>\n",
       "    <tr>\n",
       "      <th>16</th>\n",
       "      <td>Person Type</td>\n",
       "      <td>0.211289</td>\n",
       "    </tr>\n",
       "  </tbody>\n",
       "</table>\n",
       "</div>"
      ],
      "text/plain": [
       "                                    Specs          Score\n",
       "2                                 Model 1  108797.065288\n",
       "0                          Vehicle 1 Trim   63638.947075\n",
       "7                                  Make 1    4000.390631\n",
       "1                             Engine Size    2048.515368\n",
       "4                              Drive Type    1905.963087\n",
       "3                        Engine Cylinders     961.353808\n",
       "15  Estimated Current Loan-to-Value Ratio     914.647908\n",
       "23            Homeowner Probability Model     803.326830\n",
       "14                           Engine Block     667.488393\n",
       "12                      Person Occupation     142.455837\n",
       "9                Auto In The Market: Used     109.479532\n",
       "5                               Fuel Type      95.030348\n",
       "11                Auto In The Market: New      72.469166\n",
       "18               Est. Household Income V5      40.770676\n",
       "22      Consumer View Profitability Score      32.798720\n",
       "10                Number of Persons in LU      24.081669\n",
       "6                           Dwelling Type      16.795223\n",
       "17                Mosaic Global Household      11.934348\n",
       "8                   Person Marital Status      11.158791\n",
       "21                  Household Composition       6.403988\n",
       "13           Children: Age 0-18 Version 3       4.446631\n",
       "20  BehaviorBank: Presence of Credit Card       2.471085\n",
       "19                       Person Education       1.152960\n",
       "16                            Person Type       0.211289"
      ]
     },
     "execution_count": 39,
     "metadata": {},
     "output_type": "execute_result"
    }
   ],
   "source": [
    "large"
   ]
  },
  {
   "cell_type": "code",
   "execution_count": 35,
   "metadata": {},
   "outputs": [],
   "source": [
    "xtrain, xtest = train_test_split(xsplit1, test_size=0.2)\n",
    "ytrain, ytest = train_test_split(ysplit, test_size=0.2)"
   ]
  },
  {
   "cell_type": "code",
   "execution_count": 36,
   "metadata": {},
   "outputs": [],
   "source": [
    "clf = clf.fit(xtrain,ytrain)"
   ]
  },
  {
   "cell_type": "code",
   "execution_count": 37,
   "metadata": {},
   "outputs": [],
   "source": [
    "ypred = clf.predict(xtest)"
   ]
  },
  {
   "cell_type": "code",
   "execution_count": 38,
   "metadata": {},
   "outputs": [
    {
     "data": {
      "text/plain": [
       "0.4715"
      ]
     },
     "execution_count": 38,
     "metadata": {},
     "output_type": "execute_result"
    }
   ],
   "source": [
    "accuracy_score(ytest,ypred)"
   ]
  },
  {
   "cell_type": "code",
   "execution_count": null,
   "metadata": {},
   "outputs": [],
   "source": []
  }
 ],
 "metadata": {
  "kernelspec": {
   "display_name": "Python 3",
   "language": "python",
   "name": "python3"
  },
  "language_info": {
   "codemirror_mode": {
    "name": "ipython",
    "version": 3
   },
   "file_extension": ".py",
   "mimetype": "text/x-python",
   "name": "python",
   "nbconvert_exporter": "python",
   "pygments_lexer": "ipython3",
   "version": "3.7.3"
  }
 },
 "nbformat": 4,
 "nbformat_minor": 2
}
