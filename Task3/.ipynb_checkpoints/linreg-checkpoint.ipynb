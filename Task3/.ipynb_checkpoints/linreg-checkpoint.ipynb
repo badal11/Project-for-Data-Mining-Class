{
 "cells": [
  {
   "cell_type": "code",
   "execution_count": null,
   "metadata": {},
   "outputs": [],
   "source": [
    "import pandas as pd\n",
    "from sklearn.linear_model import LogisticRegression\n",
    "from sklearn.model_selection import train_test_split\n",
    "import numpy as np\n",
    "from sklearn.metrics import accuracy_score\n",
    "from sklearn import preprocessing\n",
    "from sklearn.feature_selection import SelectKBest\n",
    "from sklearn.feature_selection import chi2\n",
    "\n",
    "\n",
    "clf = LogisticRegression(random_state=0, solver='lbfgs', multi_class='multinomial',max_iter=10)\n",
    "df = pd.read_excel(\"transformed6.xlsx\")"
   ]
  },
  {
   "cell_type": "code",
   "execution_count": null,
   "metadata": {},
   "outputs": [],
   "source": [
    "df = df.fillna(df.mean())\n",
    "df.drop(['Unnamed: 0'],axis=1,inplace=True)\n",
    "df1 = df.fillna(method='ffill')\n",
    "#df1 = df1.drop(['Vehicle 1 Trim', 'Engine Size', 'Engine Block', 'Auto In The Market: New', 'Auto In The Market: Used', 'Model 1', 'Engine Cylinders', 'Drive Type', 'Fuel Type', 'Make 1'], axis=1)\n",
    "train, test = train_test_split(df1, test_size=0.2)\n",
    "\n",
    "ysplit = df1['Vehicle Type']\n",
    "xsplit = df1.drop(['Vehicle Type'],axis=1)\n",
    "dt = xsplit.select_dtypes(include=['datetime64'])\n",
    "cat2 = list(dt.columns)\n",
    "categorical = xsplit.select_dtypes(exclude=['float64'])\n",
    "cat3 = list(categorical.columns)\n",
    "cols = cat2 + cat3\n",
    "le = preprocessing.LabelEncoder()\n",
    "#xsplit = xsplit.apply(le.fit_transform)\n",
    "#xsplit[cols] = xsplit[cols].apply(lambda col: le.fit_transform(col))\n",
    "\n"
   ]
  },
  {
   "cell_type": "code",
   "execution_count": null,
   "metadata": {},
   "outputs": [],
   "source": [
    "xsplit = pd.get_dummies(xsplit, columns=cols)"
   ]
  },
  {
   "cell_type": "code",
   "execution_count": null,
   "metadata": {},
   "outputs": [],
   "source": [
    "bestfeatures = SelectKBest(score_func=chi2, k=10)\n",
    "fit = bestfeatures.fit(xsplit,ysplit)"
   ]
  },
  {
   "cell_type": "code",
   "execution_count": null,
   "metadata": {},
   "outputs": [],
   "source": [
    "dfscores = pd.DataFrame(fit.scores_)\n",
    "dfcolumns = pd.DataFrame(xsplit.columns)\n",
    "fes = pd.concat([dfcolumns,dfscores],axis=1)\n",
    "fes.columns = ['Specs','Score']\n",
    "fes.nlargest(15,'Score')\n",
    "fes = fes.sort_values(by =['Score'],ascending=False)\n",
    "large = fes.head(10)\n",
    "\n",
    "corr = large['Specs'].values\n",
    "xsplit1 = xsplit[corr] "
   ]
  },
  {
   "cell_type": "code",
   "execution_count": null,
   "metadata": {},
   "outputs": [],
   "source": [
    "#fes"
   ]
  },
  {
   "cell_type": "code",
   "execution_count": null,
   "metadata": {},
   "outputs": [],
   "source": [
    "xtrain, xtest = train_test_split(xsplit1, test_size=0.2)\n",
    "ytrain, ytest = train_test_split(ysplit, test_size=0.2)\n",
    "clf = clf.fit(xtrain,ytrain)\n",
    "ypred = clf.predict(xtest)"
   ]
  },
  {
   "cell_type": "code",
   "execution_count": null,
   "metadata": {},
   "outputs": [],
   "source": [
    "accuracy_score(ytest,ypred)"
   ]
  },
  {
   "cell_type": "code",
   "execution_count": null,
   "metadata": {},
   "outputs": [],
   "source": []
  },
  {
   "cell_type": "code",
   "execution_count": null,
   "metadata": {},
   "outputs": [],
   "source": []
  },
  {
   "cell_type": "code",
   "execution_count": null,
   "metadata": {},
   "outputs": [],
   "source": []
  }
 ],
 "metadata": {
  "kernelspec": {
   "display_name": "Python 3",
   "language": "python",
   "name": "python3"
  },
  "language_info": {
   "codemirror_mode": {
    "name": "ipython",
    "version": 3
   },
   "file_extension": ".py",
   "mimetype": "text/x-python",
   "name": "python",
   "nbconvert_exporter": "python",
   "pygments_lexer": "ipython3",
   "version": "3.7.3"
  }
 },
 "nbformat": 4,
 "nbformat_minor": 2
}
