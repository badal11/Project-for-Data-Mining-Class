{
 "cells": [
  {
   "cell_type": "code",
   "execution_count": 1,
   "metadata": {},
   "outputs": [
    {
     "name": "stdout",
     "output_type": "stream",
     "text": [
      "importing Jupyter notebook from encode.ipynb\n"
     ]
    }
   ],
   "source": [
    "import pandas as pd\n",
    "import import_ipynb\n",
    "from encode import *\n",
    "from sklearn.model_selection import train_test_split\n",
    "import numpy as np\n",
    "from sklearn.metrics import accuracy_score\n",
    "from sklearn import preprocessing\n",
    "from sklearn.feature_selection import SelectKBest\n",
    "from sklearn.feature_selection import chi2\n",
    "from sklearn.linear_model import SGDClassifier\n",
    "\n"
   ]
  },
  {
   "cell_type": "code",
   "execution_count": 2,
   "metadata": {},
   "outputs": [],
   "source": [
    "clf = SGDClassifier(loss=\"hinge\", penalty=\"l2\", max_iter=5)\n",
    "\n"
   ]
  },
  {
   "cell_type": "code",
   "execution_count": 3,
   "metadata": {},
   "outputs": [],
   "source": [
    "df = pd.read_excel(\"transformed6.xlsx\")\n",
    "df.drop(['Unnamed: 0'],axis=1,inplace=True)"
   ]
  },
  {
   "cell_type": "code",
   "execution_count": 4,
   "metadata": {},
   "outputs": [],
   "source": [
    "df = df.fillna(df.mean())\n",
    "df1 = df.fillna(method='ffill')\n",
    "#df1 = df1.drop(['Engine Size', 'Engine Block', 'Auto In The Market: New', 'Auto In The Market: Used', 'Model 1', 'Engine Cylinders', 'Drive Type', 'Fuel Type', 'Make 1', 'Unnamed: 0'], axis=1)"
   ]
  },
  {
   "cell_type": "code",
   "execution_count": 5,
   "metadata": {},
   "outputs": [],
   "source": [
    "#df1 = encode(df1)"
   ]
  },
  {
   "cell_type": "code",
   "execution_count": null,
   "metadata": {},
   "outputs": [],
   "source": []
  },
  {
   "cell_type": "code",
   "execution_count": 6,
   "metadata": {},
   "outputs": [],
   "source": [
    "ysplit = df1['Vehicle Type']\n",
    "xsplit = df1.drop(['Vehicle Type'],axis=1)\n",
    "dt = xsplit.select_dtypes(include=['datetime64'])\n",
    "cat2 = list(dt.columns)\n",
    "categorical = xsplit.select_dtypes(exclude=['float64'])\n",
    "cat3 = list(categorical.columns)\n",
    "cols = cat2 + cat3\n",
    "le = preprocessing.LabelEncoder()\n",
    "xsplit[cols] = xsplit[cols].apply(lambda col: le.fit_transform(col))\n",
    "#ysplit = le.fit_transform(ysplit)\n",
    "#xsplit = pd.get_dummies(xsplit, columns=cols)\n",
    "#xsplit"
   ]
  },
  {
   "cell_type": "code",
   "execution_count": 7,
   "metadata": {},
   "outputs": [],
   "source": [
    "bestfeatures = SelectKBest(score_func=chi2, k=10)\n",
    "fit = bestfeatures.fit(xsplit,ysplit)"
   ]
  },
  {
   "cell_type": "code",
   "execution_count": 8,
   "metadata": {},
   "outputs": [],
   "source": [
    "#fes"
   ]
  },
  {
   "cell_type": "code",
   "execution_count": 9,
   "metadata": {},
   "outputs": [],
   "source": [
    "dfscores = pd.DataFrame(fit.scores_)\n",
    "dfcolumns = pd.DataFrame(xsplit.columns)\n",
    "fes = pd.concat([dfcolumns,dfscores],axis=1)\n",
    "fes.columns = ['Specs','Score']\n",
    "fes.nlargest(15,'Score')\n",
    "fes = fes.sort_values(by =['Score'],ascending=False)\n",
    "large = fes.head(10)\n",
    "\n",
    "corr = large['Specs'].values\n",
    "xsplit1 = xsplit[corr]        "
   ]
  },
  {
   "cell_type": "code",
   "execution_count": 10,
   "metadata": {},
   "outputs": [],
   "source": [
    "xtrain, xtest = train_test_split(xsplit1, test_size=0.2, shuffle=False)\n",
    "ytrain, ytest = train_test_split(ysplit, test_size=0.2, shuffle=False)"
   ]
  },
  {
   "cell_type": "code",
   "execution_count": 1,
   "metadata": {},
   "outputs": [
    {
     "ename": "SyntaxError",
     "evalue": "invalid syntax (<ipython-input-1-7b511ebbba64>, line 17)",
     "output_type": "error",
     "traceback": [
      "\u001b[1;36m  File \u001b[1;32m\"<ipython-input-1-7b511ebbba64>\"\u001b[1;36m, line \u001b[1;32m17\u001b[0m\n\u001b[1;33m    bestModel, bestScore, allModels, allScores =\u001b[0m\n\u001b[1;37m                                                 ^\u001b[0m\n\u001b[1;31mSyntaxError\u001b[0m\u001b[1;31m:\u001b[0m invalid syntax\n"
     ]
    }
   ],
   "source": [
    "#param_grid = { 'criterion':['gini','entropy'],'max_depth': np.arange(3, 15)}\n",
    "#clf = GridSearchCV(clf, param_grid, cv=5, n_jobs=4) \n",
    "\n",
    "from sklearn.model_selection import ParameterGrid\n",
    "from sklearn.linear_model import SGDClassifier\n",
    "from sklearn.metrics import roc_auc_score\n",
    "import parfit.parfit as pf\n",
    "grid = {\n",
    "    'alpha': [1e-4, 1e-3, 1e-2, 1e-1, 1e0, 1e1, 1e2, 1e3], # learning rate\n",
    "    'n_iter': [1000], # number of epochs\n",
    "    'loss': ['log'], # logistic regression,\n",
    "    'penalty': ['l2'],\n",
    "    'n_jobs': [-1]\n",
    "}\n",
    "paramGrid = ParameterGrid(grid)\n",
    "\n",
    "bestModel, bestScore, allModels, allScores = pf.bestFit(SGDClassifier, paramGrid,\n",
    "           xtrain, ytrain, xtest, ytest, \n",
    "           metric = roc_auc_score, bestScore='max',\n",
    "           scoreLabel = \"AUC\")\n",
    "\n",
    "print(bestModel, bestScore)\n",
    "\n"
   ]
  },
  {
   "cell_type": "code",
   "execution_count": 12,
   "metadata": {},
   "outputs": [],
   "source": [
    "ypred = clf.predict(xtest)"
   ]
  },
  {
   "cell_type": "code",
   "execution_count": 13,
   "metadata": {},
   "outputs": [
    {
     "data": {
      "text/plain": [
       "0.383"
      ]
     },
     "execution_count": 13,
     "metadata": {},
     "output_type": "execute_result"
    }
   ],
   "source": [
    "accuracy_score(ytest,ypred)"
   ]
  },
  {
   "cell_type": "code",
   "execution_count": null,
   "metadata": {},
   "outputs": [],
   "source": []
  },
  {
   "cell_type": "code",
   "execution_count": null,
   "metadata": {},
   "outputs": [],
   "source": []
  }
 ],
 "metadata": {
  "kernelspec": {
   "display_name": "Python 3",
   "language": "python",
   "name": "python3"
  },
  "language_info": {
   "codemirror_mode": {
    "name": "ipython",
    "version": 3
   },
   "file_extension": ".py",
   "mimetype": "text/x-python",
   "name": "python",
   "nbconvert_exporter": "python",
   "pygments_lexer": "ipython3",
   "version": "3.7.3"
  }
 },
 "nbformat": 4,
 "nbformat_minor": 2
}
