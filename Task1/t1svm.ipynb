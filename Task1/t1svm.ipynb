{
 "cells": [
  {
   "cell_type": "code",
   "execution_count": 1,
   "metadata": {},
   "outputs": [],
   "source": [
    "import pandas as pd\n",
    "import numpy as np\n",
    "from sklearn import svm\n",
    "from sklearn.decomposition import TruncatedSVD\n",
    "from sklearn.model_selection import train_test_split\n",
    "from sklearn.feature_selection import chi2\n",
    "from sklearn.metrics import accuracy_score\n",
    "\n"
   ]
  },
  {
   "cell_type": "code",
   "execution_count": 2,
   "metadata": {},
   "outputs": [],
   "source": [
    "np.set_printoptions(suppress=True)\n",
    "df1 = pd.read_csv(\"C:/Users/arjun/jup/Project/training.txt\",sep=\"\\s+\",header=None)\n",
    "df1.columns=['ID','Features','Values']\n",
    "df3 = pd.read_excel(\"C:/Users/arjun/jup/Project/test_sample.xlsx\",sheet_name=\"data\",sep=\"\\s+\",header=None)\n",
    "df3.columns=['ID','Features','Values']\n"
   ]
  },
  {
   "cell_type": "code",
   "execution_count": 3,
   "metadata": {},
   "outputs": [],
   "source": [
    "mat1 = pd.pivot_table(df1, index='ID', columns='Features', values='Values')\n",
    "mat1 = mat1.fillna(0)\n",
    "mat3 = pd.pivot_table(df3, index='ID', columns='Features', values='Values')\n",
    "mat3 = mat3.fillna(0)"
   ]
  },
  {
   "cell_type": "code",
   "execution_count": 4,
   "metadata": {},
   "outputs": [],
   "source": [
    "df2 = pd.read_csv(\"C:/Users/arjun/jup/Project/label_training.txt\",sep=\"\\t\",header=None)\n",
    "df2.columns = ['Classes']\n",
    "df4 = pd.read_excel(\"C:/Users/arjun/jup/Project/test_sample.xlsx\",sheet_name=\"label\",sep=\"\\t\",header=None)\n",
    "df4.columns = ['Classes']"
   ]
  },
  {
   "cell_type": "code",
   "execution_count": 5,
   "metadata": {},
   "outputs": [],
   "source": [
    "svd = TruncatedSVD(n_components=100, n_iter=7, random_state=42)\n",
    "mat1 = svd.fit_transform(mat1)"
   ]
  },
  {
   "cell_type": "code",
   "execution_count": 6,
   "metadata": {},
   "outputs": [],
   "source": [
    "xtrain, xtest = train_test_split(mat1, test_size=0.2, shuffle=False)\n",
    "ytrain, ytest = train_test_split(df2, test_size=0.2, shuffle=False)\n",
    "ytrain = np.ravel(ytrain)\n",
    "ytest = np.ravel(ytest)"
   ]
  },
  {
   "cell_type": "code",
   "execution_count": 7,
   "metadata": {},
   "outputs": [
    {
     "data": {
      "text/plain": [
       "0.962059620596206"
      ]
     },
     "execution_count": 7,
     "metadata": {},
     "output_type": "execute_result"
    }
   ],
   "source": [
    "clf = svm.SVC(kernel='linear')\n",
    "clf.fit(xtrain, ytrain)\n",
    "pred = clf.predict(xtest)\n",
    "accuracy_score(ytest,pred)"
   ]
  },
  {
   "cell_type": "code",
   "execution_count": 8,
   "metadata": {},
   "outputs": [],
   "source": [
    "#mat1 = pd.DataFrame(data=x,index=np.arange(1, x.shape[0]+1),columns=np.arange(1, x.shape[1]+1))"
   ]
  },
  {
   "cell_type": "code",
   "execution_count": 10,
   "metadata": {},
   "outputs": [
    {
     "data": {
      "image/png": "[encoded data removed]",
      "text/plain": [
       "<Figure size 432x288 with 2 Axes>"
      ]
     },
     "metadata": {
      "needs_background": "light"
     },
     "output_type": "display_data"
    },
    {
     "data": {
      "text/plain": [
       "<matplotlib.axes._subplots.AxesSubplot at 0x13a9f7f4048>"
      ]
     },
     "execution_count": 10,
     "metadata": {},
     "output_type": "execute_result"
    }
   ],
   "source": [
    "from yellowbrick.classifier import ClassPredictionError, ClassificationReport, ROCAUC, PrecisionRecallCurve, ConfusionMatrix\n",
    "model = svm.SVC(kernel='linear')\n",
    "classes = [1,1,-1]\n",
    "viz = ClassificationReport(model, classes=classes, support=True)\n",
    "viz.fit(xtrain,ytrain)\n",
    "viz.score(xtest,ytest)\n",
    "viz.show()"
   ]
  },
  {
   "cell_type": "code",
   "execution_count": null,
   "metadata": {},
   "outputs": [],
   "source": []
  }
 ],
 "metadata": {
  "kernelspec": {
   "display_name": "Python 3",
   "language": "python",
   "name": "python3"
  },
  "language_info": {
   "codemirror_mode": {
    "name": "ipython",
    "version": 3
   },
   "file_extension": ".py",
   "mimetype": "text/x-python",
   "name": "python",
   "nbconvert_exporter": "python",
   "pygments_lexer": "ipython3",
   "version": "3.7.3"
  }
 },
 "nbformat": 4,
 "nbformat_minor": 2
}
