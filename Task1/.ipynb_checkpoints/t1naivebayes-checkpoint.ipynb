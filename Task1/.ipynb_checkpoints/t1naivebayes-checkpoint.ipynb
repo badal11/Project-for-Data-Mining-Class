{
 "cells": [
  {
   "cell_type": "code",
   "execution_count": 9,
   "metadata": {},
   "outputs": [
    {
     "data": {
      "text/plain": [
       "0.7669376693766937"
      ]
     },
     "execution_count": 9,
     "metadata": {},
     "output_type": "execute_result"
    }
   ],
   "source": [
    "import pandas as pd\n",
    "import numpy as np\n",
    "from sklearn import svm\n",
    "from sklearn.decomposition import TruncatedSVD\n",
    "from sklearn.model_selection import train_test_split\n",
    "from sklearn.naive_bayes import GaussianNB, MultinomialNB, BernoulliNB\n",
    "from sklearn.metrics import accuracy_score\n",
    "\n",
    "np.set_printoptions(suppress=True)\n",
    "df1 = pd.read_csv(\"C:/Users/arjun/jup/Project/training.txt\",sep=\"\\s+\",header=None)\n",
    "df1.columns=['ID','Features','Values']\n",
    "mat1 = pd.pivot_table(df1, index='ID', columns='Features', values='Values')\n",
    "mat1 = mat1.fillna(0)\n",
    "df2 = pd.read_csv(\"C:/Users/arjun/jup/Project/label_training.txt\",sep=\"\\t\",header=None)\n",
    "df2.columns = ['Classes']\n",
    "\n",
    "svd = TruncatedSVD(n_components=100, n_iter=7, random_state=42)\n",
    "mat1 = svd.fit_transform(mat1)\n",
    "\n",
    "xtrain, xtest = train_test_split(mat1, test_size=0.2, shuffle=False)\n",
    "ytrain, ytest = train_test_split(df2, test_size=0.2, shuffle=False)\n",
    "ytrain = np.ravel(ytrain)\n",
    "ytest = np.ravel(ytest)\n",
    "\n",
    "clf = GaussianNB()\n",
    "clf = clf.fit(xtrain, ytrain)\n",
    "predY = clf.predict(xtest)\n",
    "accuracy_score(ytest,predY)"
   ]
  },
  {
   "cell_type": "code",
   "execution_count": 11,
   "metadata": {},
   "outputs": [
    {
     "data": {
      "text/plain": [
       "0.8753387533875339"
      ]
     },
     "execution_count": 11,
     "metadata": {},
     "output_type": "execute_result"
    }
   ],
   "source": [
    "clf = BernoulliNB()\n",
    "clf = clf.fit(xtrain, ytrain)\n",
    "predY = clf.predict(xtest)\n",
    "accuracy_score(ytest,predY)"
   ]
  },
  {
   "cell_type": "code",
   "execution_count": 12,
   "metadata": {},
   "outputs": [
    {
     "data": {
      "image/png": "[encoded data removed]",
      "text/plain": [
       "<Figure size 576x396 with 2 Axes>"
      ]
     },
     "metadata": {},
     "output_type": "display_data"
    },
    {
     "data": {
      "text/plain": [
       "<matplotlib.axes._subplots.AxesSubplot at 0x2673d3b0d68>"
      ]
     },
     "execution_count": 12,
     "metadata": {},
     "output_type": "execute_result"
    }
   ],
   "source": [
    "from yellowbrick.classifier import ClassPredictionError, ClassificationReport, ROCAUC, PrecisionRecallCurve, ConfusionMatrix\n",
    "model = BernoulliNB()\n",
    "classes = [1,1,-1]\n",
    "viz = ClassificationReport(model, classes=classes, support=True)\n",
    "viz.fit(xtrain,ytrain)\n",
    "viz.score(xtest,ytest)\n",
    "viz.show()"
   ]
  },
  {
   "cell_type": "code",
   "execution_count": null,
   "metadata": {},
   "outputs": [],
   "source": [
    "\n",
    "        "
   ]
  },
  {
   "cell_type": "code",
   "execution_count": null,
   "metadata": {},
   "outputs": [],
   "source": []
  },
  {
   "cell_type": "code",
   "execution_count": null,
   "metadata": {},
   "outputs": [],
   "source": []
  },
  {
   "cell_type": "code",
   "execution_count": null,
   "metadata": {},
   "outputs": [],
   "source": []
  },
  {
   "cell_type": "code",
   "execution_count": null,
   "metadata": {},
   "outputs": [],
   "source": []
  }
 ],
 "metadata": {
  "kernelspec": {
   "display_name": "Python 3",
   "language": "python",
   "name": "python3"
  },
  "language_info": {
   "codemirror_mode": {
    "name": "ipython",
    "version": 3
   },
   "file_extension": ".py",
   "mimetype": "text/x-python",
   "name": "python",
   "nbconvert_exporter": "python",
   "pygments_lexer": "ipython3",
   "version": "3.7.3"
  }
 },
 "nbformat": 4,
 "nbformat_minor": 2
}
