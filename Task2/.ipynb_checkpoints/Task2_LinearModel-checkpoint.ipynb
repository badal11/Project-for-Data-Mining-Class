{
 "cells": [
  {
   "cell_type": "markdown",
   "metadata": {
    "colab_type": "text",
    "id": "aYjIZf3jsgvs"
   },
   "source": [
    "Below is version 2"
   ]
  },
  {
   "cell_type": "code",
   "execution_count": 0,
   "metadata": {
    "colab": {},
    "colab_type": "code",
    "id": "uCXD_ppbqep2"
   },
   "outputs": [],
   "source": [
    "import pandas as pd\n",
    "import numpy as np\n",
    "from google.colab import files\n",
    "import io\n",
    "\n",
    "uploaded = files.upload()\n",
    "data_names = ['Hour', 'Temperature', 'Humidity', 'Atmospheric Pressure', 'Soil Temperature', 'Solar Radiation', 'solar_rads_s2', 'solar_rads_s3', 'solar_rads_s4'] #name of each column\n",
    "data = pd.read_csv(io.BytesIO(uploaded['hr_rad_temp_pr_hu_drt-10.csv']), names = data_names)\n",
    "\n",
    "x = data[['Hour', 'Temperature', 'Atmospheric Pressure', 'Soil Temperature']].values #sets the parameters for our linear model i.e. the values we will use to predict solar radiation.\n",
    "\n",
    "y = data['Solar Radiation'].to_numpy().reshape(-1, 1) #this is our dependent variable i.e. the value we predict\n",
    "\n",
    "for i in range(len(x)): #this changes each timestamp entry into just the hour values in integer value\n",
    "\tx[i][0] = int(x[i][0][11]+x[i][0][12])\n",
    " \n"
   ]
  },
  {
   "cell_type": "markdown",
   "metadata": {
    "colab_type": "text",
    "id": "higHaqAqr9RI"
   },
   "source": [
    "Get Data"
   ]
  },
  {
   "cell_type": "code",
   "execution_count": 0,
   "metadata": {
    "colab": {},
    "colab_type": "code",
    "id": "So9UXjesr9av"
   },
   "outputs": [],
   "source": [
    "uploaded = files.upload()\n",
    "f_testn = ['Hour', 'Temperature', 'Humidity', 'Atmospheric Pressure', 'Soil Temperature', 'Solar Radiation', 'solar_rads_s2', 'solar_rads_s3', 'solar_rads_s4']\n",
    "f_testdata = pd.read_csv(io.BytesIO(uploaded[\"f-fin.csv\"]), names = f_testn)\n",
    "\n",
    "fx = f_testdata[['Hour', 'Temperature', 'Atmospheric Pressure', 'Soil Temperature']].values\n",
    "fy = f_testdata['Solar Radiation'].to_numpy().reshape(-1, 1)\n",
    "\n",
    "for i in range(len(fx)):\n",
    "\tfx[i][0] = int(fx[i][0][11]+fx[i][0][12])\n",
    " "
   ]
  },
  {
   "cell_type": "markdown",
   "metadata": {
    "colab_type": "text",
    "id": "oCxgAyhisCUs"
   },
   "source": [
    "fit Model and test it:"
   ]
  },
  {
   "cell_type": "code",
   "execution_count": 0,
   "metadata": {
    "colab": {},
    "colab_type": "code",
    "id": "Q-jdOqkEsCec"
   },
   "outputs": [],
   "source": [
    "from sklearn import linear_model\n",
    "from sklearn.metrics import mean_squared_error, mean_absolute_error\n",
    "from sklearn.model_selection import train_test_split\n",
    "\n",
    "regr = linear_model.LinearRegression()\n",
    "x_train, x_test, y_train, y_test = train_test_split(x, y, test_size=0.35, random_state=0)\n",
    "regr.fit(x_train, y_train)"
   ]
  },
  {
   "cell_type": "code",
   "execution_count": 0,
   "metadata": {
    "colab": {},
    "colab_type": "code",
    "id": "SmlywUmJsIrQ"
   },
   "outputs": [],
   "source": [
    "y_pred_test = regr.predict(x_test)\n",
    "print(\"Root mean squared error = %.4f\" % np.sqrt(mean_squared_error(y_test, y_pred_test)))\n",
    "print('MSE = %.4f' % mean_absolute_error(y_test, y_pred_test))"
   ]
  },
  {
   "cell_type": "code",
   "execution_count": 0,
   "metadata": {
    "colab": {},
    "colab_type": "code",
    "id": "7B1Uv_4JsJSr"
   },
   "outputs": [],
   "source": [
    "f_pred_test = regr.predict(fx)\n",
    "print(\"Results for labor day prediction :\\n\")\n",
    "print(\"Root mean squared error = %.4f\" % np.sqrt(mean_squared_error(fy, f_pred_test)))\n",
    "print('MSE = %.4f' % mean_absolute_error(fy, f_pred_test))\n"
   ]
  },
  {
   "cell_type": "markdown",
   "metadata": {
    "colab_type": "text",
    "id": "dU84gwcVsQkF"
   },
   "source": [
    "Below is version 3 we fit model to final data"
   ]
  },
  {
   "cell_type": "code",
   "execution_count": 0,
   "metadata": {
    "colab": {},
    "colab_type": "code",
    "id": "pG9BuL_XsTI2"
   },
   "outputs": [],
   "source": [
    "x = data[['Hour', 'Soil Temperature', 'solar_rads_s4']].values\n",
    "\n",
    "for i in range(len(x)):\n",
    "\tx[i][0] = int(x[i][0][11]+x[i][0][12])\n",
    "\n",
    "y = data['Solar Radiation'].to_numpy().reshape(-1, 1)\n",
    "x_train, x_test, y_train, y_test = train_test_split(x, y, test_size=0.25, random_state=0)\n",
    "\n",
    "fx = f_testdata[['Hour', 'Soil Temperature', 'solar_rads_s4']].values\n",
    "fy = f_testdata['Solar Radiation'].to_numpy().reshape(-1, 1)\n",
    "\n",
    "for i in range(len(fx)):\n",
    "\tfx[i][0] = int(fx[i][0][11]+fx[i][0][12])\n",
    "\n",
    "regr.fit(x_train, y_train)"
   ]
  },
  {
   "cell_type": "markdown",
   "metadata": {
    "colab_type": "text",
    "id": "j9BEzBfDsYFz"
   },
   "source": [
    "test model:"
   ]
  },
  {
   "cell_type": "code",
   "execution_count": 0,
   "metadata": {
    "colab": {},
    "colab_type": "code",
    "id": "obIhA2RWsYPj"
   },
   "outputs": [],
   "source": [
    "y_pred_test = regr.predict(x_test)\n",
    "print(\"Root mean squared error = %.4f\" % np.sqrt(mean_squared_error(y_test, y_pred_test)))\n",
    "print('MSE = %.4f' % mean_absolute_error(y_test, y_pred_test))"
   ]
  },
  {
   "cell_type": "code",
   "execution_count": 0,
   "metadata": {
    "colab": {},
    "colab_type": "code",
    "id": "j_Ld1nP4scSf"
   },
   "outputs": [],
   "source": [
    "f_pred_test = regr.predict(fx)\n",
    "print(\"Results for labor day prediction :\\n\")\n",
    "print(\"Root mean squared error = %.4f\" % np.sqrt(mean_squared_error(fy, f_pred_test)))\n",
    "print('MSE = %.4f' % mean_absolute_error(fy, f_pred_test))"
   ]
  }
 ],
 "metadata": {
  "colab": {
   "name": "Task2_LinearModel.ipynb",
   "provenance": []
  },
  "kernelspec": {
   "display_name": "Python 3",
   "language": "python",
   "name": "python3"
  },
  "language_info": {
   "codemirror_mode": {
    "name": "ipython",
    "version": 3
   },
   "file_extension": ".py",
   "mimetype": "text/x-python",
   "name": "python",
   "nbconvert_exporter": "python",
   "pygments_lexer": "ipython3",
   "version": "3.7.3"
  }
 },
 "nbformat": 4,
 "nbformat_minor": 1
}
